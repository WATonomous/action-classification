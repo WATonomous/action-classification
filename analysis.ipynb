{
 "cells": [
  {
   "cell_type": "code",
   "execution_count": 2,
   "metadata": {},
   "outputs": [],
   "source": [
    "import json"
   ]
  },
  {
   "cell_type": "code",
   "execution_count": 3,
   "metadata": {},
   "outputs": [],
   "source": [
    "annotation_path = \"/road/road_trainval_v1.0.json\"\n",
    "\n",
    "ann_dict = json.loads(open(annotation_path, 'rb').read())"
   ]
  },
  {
   "cell_type": "code",
   "execution_count": 4,
   "metadata": {},
   "outputs": [],
   "source": [
    "action_counts_2 = {}\n",
    "for name, v in ann_dict['db'].items():\n",
    "    if 'val_1' in v['split_ids']:\n",
    "        for k, tube in v['action_tubes'].items():\n",
    "            action_counts_2[tube['label_id']] = action_counts_2.get(tube['label_id'], 0) + len(tube['annos'])"
   ]
  },
  {
   "cell_type": "code",
   "execution_count": 6,
   "metadata": {},
   "outputs": [
    {
     "name": "stdout",
     "output_type": "stream",
     "text": [
      "MovAway 14699\n",
      "Stop 16895\n",
      "MovTow 13921\n",
      "Green 2810\n",
      "TurLft 772\n",
      "IncatLft 1884\n",
      "Wait2X 819\n",
      "MovRht 114\n",
      "Mov 1587\n",
      "PushObj 629\n",
      "XingFmLft 2102\n",
      "HazLit 1000\n",
      "Ovtak 202\n",
      "TurRht 704\n",
      "Red 6309\n",
      "XingFmRht 1360\n",
      "IncatRht 2015\n",
      "Amber 381\n",
      "MovLft 153\n",
      "Xing 337\n",
      "Brake 1097\n",
      "Rev 146\n"
     ]
    }
   ],
   "source": [
    "for k, each in action_counts_2.items():\n",
    "    print(ann_dict['all_action_labels'][k], each)"
   ]
  },
  {
   "cell_type": "code",
   "execution_count": 14,
   "metadata": {},
   "outputs": [
    {
     "data": {
      "text/plain": [
       "{'annotated': 1,\n",
       " 'rgb_image_id': 1,\n",
       " 'width': 1280,\n",
       " 'height': 960,\n",
       " 'av_action_ids': [1],\n",
       " 'annos': {'b01': {'box': [0.49769053117782913,\n",
       "    0.40846153846153843,\n",
       "    0.5348201977190377,\n",
       "    0.47486849911014434],\n",
       "   'agent_ids': [6],\n",
       "   'loc_ids': [0],\n",
       "   'action_ids': [8, 11],\n",
       "   'duplex_ids': [91, 94],\n",
       "   'triplet_ids': [1092, 1128],\n",
       "   'tube_uid': '8258d065'},\n",
       "  'b02': {'box': [0.528591925544685,\n",
       "    0.44310658493177774,\n",
       "    0.540698263555602,\n",
       "    0.48538461538461536],\n",
       "   'agent_ids': [2],\n",
       "   'loc_ids': [0],\n",
       "   'action_ids': [3],\n",
       "   'duplex_ids': [25],\n",
       "   'triplet_ids': [300],\n",
       "   'tube_uid': 'c2b85678'}},\n",
       " 'input_image_id': 1}"
      ]
     },
     "execution_count": 14,
     "metadata": {},
     "output_type": "execute_result"
    }
   ],
   "source": [
    "ann_dict['db']['2014-06-25-16-45-34_stereo_centre_02']['frames']['1']"
   ]
  },
  {
   "cell_type": "code",
   "execution_count": 5,
   "metadata": {},
   "outputs": [
    {
     "ename": "KeyboardInterrupt",
     "evalue": "",
     "output_type": "error",
     "traceback": [
      "\u001b[0;31m---------------------------------------------------------------------------\u001b[0m",
      "\u001b[0;31mKeyboardInterrupt\u001b[0m                         Traceback (most recent call last)",
      "\u001b[1;32m/home/a5zhuang/action-classification/analysis.ipynb Cell 2'\u001b[0m in \u001b[0;36m<cell line: 6>\u001b[0;34m()\u001b[0m\n\u001b[1;32m     <a href='vscode-notebook-cell://ssh-remote%2Bthor-ubuntu1.watocluster.local/home/a5zhuang/action-classification/analysis.ipynb#ch0000001vscode-remote?line=31'>32</a>\u001b[0m \u001b[39massert\u001b[39;00m \u001b[39mlen\u001b[39m(frame[\u001b[39m'\u001b[39m\u001b[39mannos\u001b[39m\u001b[39m'\u001b[39m]) \u001b[39m>\u001b[39m \u001b[39m0\u001b[39m, frame[\u001b[39m'\u001b[39m\u001b[39mannotated\u001b[39m\u001b[39m'\u001b[39m]\n\u001b[1;32m     <a href='vscode-notebook-cell://ssh-remote%2Bthor-ubuntu1.watocluster.local/home/a5zhuang/action-classification/analysis.ipynb#ch0000001vscode-remote?line=32'>33</a>\u001b[0m \u001b[39mfor\u001b[39;00m annon \u001b[39min\u001b[39;00m frame[\u001b[39m'\u001b[39m\u001b[39mannos\u001b[39m\u001b[39m'\u001b[39m]\u001b[39m.\u001b[39mvalues():\n\u001b[0;32m---> <a href='vscode-notebook-cell://ssh-remote%2Bthor-ubuntu1.watocluster.local/home/a5zhuang/action-classification/analysis.ipynb#ch0000001vscode-remote?line=33'>34</a>\u001b[0m     label \u001b[39m=\u001b[39m {\u001b[39m'\u001b[39m\u001b[39mbounding_box\u001b[39m\u001b[39m'\u001b[39m: annon[\u001b[39m'\u001b[39m\u001b[39mbox\u001b[39m\u001b[39m'\u001b[39m], \u001b[39m'\u001b[39m\u001b[39mlabel\u001b[39m\u001b[39m'\u001b[39m: annon[\u001b[39m'\u001b[39;49m\u001b[39maction_ids\u001b[39;49m\u001b[39m'\u001b[39;49m]}\n\u001b[1;32m     <a href='vscode-notebook-cell://ssh-remote%2Bthor-ubuntu1.watocluster.local/home/a5zhuang/action-classification/analysis.ipynb#ch0000001vscode-remote?line=34'>35</a>\u001b[0m     dp[\u001b[39m'\u001b[39m\u001b[39mlabels\u001b[39m\u001b[39m'\u001b[39m]\u001b[39m.\u001b[39mappend(label)\n\u001b[1;32m     <a href='vscode-notebook-cell://ssh-remote%2Bthor-ubuntu1.watocluster.local/home/a5zhuang/action-classification/analysis.ipynb#ch0000001vscode-remote?line=35'>36</a>\u001b[0m data\u001b[39m.\u001b[39mappend(dp)\n",
      "\u001b[0;31mKeyboardInterrupt\u001b[0m: "
     ]
    }
   ],
   "source": [
    "split = \"train_1\"\n",
    "annotation_path = \"/mnt/wato-drive/road/road_trainval_v1.0.json\"\n",
    "data = []\n",
    "num_frames_in_clip = 91\n",
    "fps = 12\n",
    "with open(annotation_path, \"r\") as f:\n",
    "            if split == \"train_1\":\n",
    "                fs = f.read()\n",
    "                ann_dict = json.loads(fs)\n",
    "                for video in ann_dict['db'].keys():\n",
    "                    if split not in ann_dict['db'][video]['split_ids']:\n",
    "                        continue\n",
    "\n",
    "                    for frame in ann_dict['db'][video]['frames'].values():\n",
    "                        if not frame['annotated'] or len(frame['annos']) == 0:\n",
    "                            continue\n",
    "                        # Let's use this frame as a training point\n",
    "                        dp = {}\n",
    "                        frame_id = int(frame['input_image_id'])\n",
    "                        if split == \"val_1\" and frame_id % 1 != 0:\n",
    "                            continue\n",
    "                        dp['video'] = video\n",
    "                        dp['time'] = frame_id\n",
    "                        dp['midframe'] = frame_id\n",
    "                        dp['start_frame'] = max(0, frame_id - num_frames_in_clip // 2)\n",
    "                        dp['n_frames'] = num_frames_in_clip\n",
    "                        if dp['start_frame'] + dp['n_frames'] - 1 > ann_dict['db'][video]['numf']:\n",
    "                            dp['n_frames'] = ann_dict['db'][video]['numf'] - dp['start_frame'] + 1\n",
    "                        dp['format_str'] = '%05d.jpg'\n",
    "                        dp['frame_rate'] = fps\n",
    "                        dp['labels'] = []\n",
    "                        assert len(frame['annos']) > 0, frame['annotated']\n",
    "                        for annon in frame['annos'].values():\n",
    "                            label = {'bounding_box': annon['box'], 'label': annon['action_ids']}\n",
    "                            dp['labels'].append(label)\n",
    "                        data.append(dp)"
   ]
  },
  {
   "cell_type": "code",
   "execution_count": 33,
   "metadata": {},
   "outputs": [
    {
     "name": "stdout",
     "output_type": "stream",
     "text": [
      "2014-06-25-16-45-34_stereo_centre_02\n",
      "2014-07-14-14-49-50_stereo_centre_01\n",
      "2014-07-14-15-42-55_stereo_centre_03\n",
      "2014-08-08-13-15-11_stereo_centre_01\n",
      "2014-08-11-10-59-18_stereo_centre_02\n",
      "2014-11-14-16-34-33_stereo_centre_06\n",
      "2014-11-18-13-20-12_stereo_centre_05\n",
      "2014-11-21-16-07-03_stereo_centre_01\n",
      "2014-12-09-13-21-02_stereo_centre_01\n",
      "2015-02-03-08-45-10_stereo_centre_02\n",
      "2015-02-03-19-43-11_stereo_centre_04\n",
      "2015-02-06-13-57-16_stereo_centre_02\n",
      "2015-02-13-09-16-26_stereo_centre_05\n",
      "2015-02-24-12-32-19_stereo_centre_04\n",
      "2015-03-03-11-31-36_stereo_centre_01\n"
     ]
    }
   ],
   "source": [
    "for k, each in ann_dict['db'].items():\n",
    "    if 'train_1' in each['split_ids']:\n",
    "        print(k)"
   ]
  },
  {
   "cell_type": "code",
   "execution_count": 1,
   "metadata": {},
   "outputs": [
    {
     "ename": "NameError",
     "evalue": "name 'ann_dict' is not defined",
     "output_type": "error",
     "traceback": [
      "\u001b[0;31m---------------------------------------------------------------------------\u001b[0m",
      "\u001b[0;31mNameError\u001b[0m                                 Traceback (most recent call last)",
      "\u001b[1;32m/project/action-classification/analysis.ipynb Cell 4'\u001b[0m in \u001b[0;36m<cell line: 2>\u001b[0;34m()\u001b[0m\n\u001b[1;32m      <a href='vscode-notebook-cell://attached-container%2B7b22636f6e7461696e65724e616d65223a222f61357a6875616e675f616361725f31222c2273657474696e6773223a7b22686f7374223a227373683a2f2f74686f722d7562756e7475312e7761746f636c75737465722e6c6f63616c227d7d/project/action-classification/analysis.ipynb#ch0000003vscode-remote?line=0'>1</a>\u001b[0m action_counts \u001b[39m=\u001b[39m {}\n\u001b[0;32m----> <a href='vscode-notebook-cell://attached-container%2B7b22636f6e7461696e65724e616d65223a222f61357a6875616e675f616361725f31222c2273657474696e6773223a7b22686f7374223a227373683a2f2f74686f722d7562756e7475312e7761746f636c75737465722e6c6f63616c227d7d/project/action-classification/analysis.ipynb#ch0000003vscode-remote?line=1'>2</a>\u001b[0m \u001b[39mfor\u001b[39;00m name, v \u001b[39min\u001b[39;00m ann_dict[\u001b[39m'\u001b[39m\u001b[39mdb\u001b[39m\u001b[39m'\u001b[39m]\u001b[39m.\u001b[39mitems():\n\u001b[1;32m      <a href='vscode-notebook-cell://attached-container%2B7b22636f6e7461696e65724e616d65223a222f61357a6875616e675f616361725f31222c2273657474696e6773223a7b22686f7374223a227373683a2f2f74686f722d7562756e7475312e7761746f636c75737465722e6c6f63616c227d7d/project/action-classification/analysis.ipynb#ch0000003vscode-remote?line=2'>3</a>\u001b[0m     \u001b[39mif\u001b[39;00m \u001b[39m'\u001b[39m\u001b[39mtrain_1\u001b[39m\u001b[39m'\u001b[39m \u001b[39min\u001b[39;00m v[\u001b[39m'\u001b[39m\u001b[39msplit_ids\u001b[39m\u001b[39m'\u001b[39m]:\n\u001b[1;32m      <a href='vscode-notebook-cell://attached-container%2B7b22636f6e7461696e65724e616d65223a222f61357a6875616e675f616361725f31222c2273657474696e6773223a7b22686f7374223a227373683a2f2f74686f722d7562756e7475312e7761746f636c75737465722e6c6f63616c227d7d/project/action-classification/analysis.ipynb#ch0000003vscode-remote?line=3'>4</a>\u001b[0m         \u001b[39mfor\u001b[39;00m k, frame \u001b[39min\u001b[39;00m v[\u001b[39m'\u001b[39m\u001b[39mframes\u001b[39m\u001b[39m'\u001b[39m]\u001b[39m.\u001b[39mitems():\n",
      "\u001b[0;31mNameError\u001b[0m: name 'ann_dict' is not defined"
     ]
    }
   ],
   "source": [
    "action_counts = {}\n",
    "for name, v in ann_dict['db'].items():\n",
    "    if 'train_1' in v['split_ids']:\n",
    "        for k, frame in v['frames'].items():\n",
    "            if 'annos' not in frame.keys():\n",
    "                continue\n",
    "            for j, anno in frame['annos'].items():\n",
    "                for each in anno['action_ids']:\n",
    "                    action_counts[each] = action_counts.get(each, 0) + 1"
   ]
  },
  {
   "cell_type": "code",
   "execution_count": 34,
   "metadata": {},
   "outputs": [
    {
     "data": {
      "image/png": "[encoded data removed]",
      "text/plain": [
       "<Figure size 1080x216 with 1 Axes>"
      ]
     },
     "metadata": {
      "needs_background": "light"
     },
     "output_type": "display_data"
    }
   ],
   "source": [
    "import matplotlib.pyplot as plt\n",
    "fig = plt.figure()\n",
    "ax = fig.add_axes([0,0,1,1])\n",
    "plt.rcParams[\"figure.figsize\"] = (15,10)\n",
    "\n",
    "students = [23,17,35,29,12]\n",
    "ax.bar(x,y)\n",
    "plt.show()\n"
   ]
  },
  {
   "cell_type": "code",
   "execution_count": null,
   "metadata": {},
   "outputs": [],
   "source": []
  },
  {
   "cell_type": "code",
   "execution_count": 7,
   "metadata": {},
   "outputs": [
    {
     "name": "stdout",
     "output_type": "stream",
     "text": [
      "Stop 80904\n",
      "HazLit 2140\n",
      "MovAway 127014\n",
      "MovTow 111222\n",
      "Brake 17958\n",
      "Green 19310\n",
      "TurRht 5858\n",
      "Wait2X 9695\n",
      "Amber 5808\n",
      "Red 39406\n",
      "IncatLft 3163\n",
      "XingFmLft 15687\n",
      "MovRht 253\n",
      "XingFmRht 10813\n",
      "Xing 4800\n",
      "Ovtak 747\n",
      "Mov 7782\n",
      "TurLft 3953\n",
      "PushObj 3896\n",
      "IncatRht 5392\n",
      "MovLft 230\n",
      "Rev 39\n"
     ]
    }
   ],
   "source": [
    "x = []\n",
    "y = []\n",
    "for k, v in action_counts.items():\n",
    "    print(ann_dict['all_action_labels'][k], v)\n",
    "    x.append(ann_dict['all_action_labels'][k])\n",
    "    y.append(v)\n",
    "    #print(k, v, action_counts_2[k])\n",
    "# verified!!!"
   ]
  },
  {
   "cell_type": "code",
   "execution_count": 100,
   "metadata": {},
   "outputs": [
    {
     "name": "stdout",
     "output_type": "stream",
     "text": [
      "dict_keys(['all_input_labels', 'all_av_action_labels', 'av_action_labels', 'agent_labels', 'action_labels', 'duplex_labels', 'triplet_labels', 'loc_labels', 'old_loc_labels', 'db', 'label_types', 'all_duplex_labels', 'all_triplet_labels', 'all_agent_labels', 'all_loc_labels', 'all_action_labels', 'duplex_childs', 'triplet_childs'])\n"
     ]
    },
    {
     "data": {
      "text/plain": [
       "'PushObj'"
      ]
     },
     "execution_count": 100,
     "metadata": {},
     "output_type": "execute_result"
    }
   ],
   "source": [
    "print(ann_dict.keys())\n",
    "ann_dict['all_action_labels'][21]"
   ]
  },
  {
   "cell_type": "code",
   "execution_count": 77,
   "metadata": {},
   "outputs": [
    {
     "data": {
      "text/plain": [
       "{8: 80904,\n",
       " 11: 2140,\n",
       " 3: 127014,\n",
       " 4: 111222,\n",
       " 7: 17958,\n",
       " 2: 19310,\n",
       " 13: 5858,\n",
       " 17: 9695,\n",
       " 1: 5808,\n",
       " 0: 39406,\n",
       " 9: 3163,\n",
       " 18: 15687,\n",
       " 14: 253,\n",
       " 19: 10813,\n",
       " 20: 4800,\n",
       " 16: 747,\n",
       " 5: 7782,\n",
       " 12: 3953,\n",
       " 21: 3896,\n",
       " 10: 5392,\n",
       " 15: 230,\n",
       " 6: 39}"
      ]
     },
     "execution_count": 77,
     "metadata": {},
     "output_type": "execute_result"
    }
   ],
   "source": [
    "action_counts"
   ]
  },
  {
   "cell_type": "code",
   "execution_count": 23,
   "metadata": {},
   "outputs": [
    {
     "data": {
      "text/plain": [
       "'HazLit'"
      ]
     },
     "execution_count": 23,
     "metadata": {},
     "output_type": "execute_result"
    }
   ],
   "source": [
    "ann_dict['all_action_labels'][11]"
   ]
  },
  {
   "cell_type": "code",
   "execution_count": 16,
   "metadata": {},
   "outputs": [
    {
     "data": {
      "text/plain": [
       "{'annotated': 1,\n",
       " 'rgb_image_id': 1,\n",
       " 'width': 1280,\n",
       " 'height': 960,\n",
       " 'av_action_ids': [1],\n",
       " 'annos': {'b01': {'box': [0.49769053117782913,\n",
       "    0.40846153846153843,\n",
       "    0.5348201977190377,\n",
       "    0.47486849911014434],\n",
       "   'agent_ids': [6],\n",
       "   'loc_ids': [0],\n",
       "   'action_ids': [8, 11],\n",
       "   'duplex_ids': [91, 94],\n",
       "   'triplet_ids': [1092, 1128],\n",
       "   'tube_uid': '8258d065'},\n",
       "  'b02': {'box': [0.528591925544685,\n",
       "    0.44310658493177774,\n",
       "    0.540698263555602,\n",
       "    0.48538461538461536],\n",
       "   'agent_ids': [2],\n",
       "   'loc_ids': [0],\n",
       "   'action_ids': [3],\n",
       "   'duplex_ids': [25],\n",
       "   'triplet_ids': [300],\n",
       "   'tube_uid': 'c2b85678'}},\n",
       " 'input_image_id': 1}"
      ]
     },
     "execution_count": 16,
     "metadata": {},
     "output_type": "execute_result"
    }
   ],
   "source": [
    "ann_dict['db']['2014-06-25-16-45-34_stereo_centre_02']['frames']['1']"
   ]
  },
  {
   "cell_type": "code",
   "execution_count": 64,
   "metadata": {},
   "outputs": [
    {
     "data": {
      "text/plain": [
       "{'label_id': 4,\n",
       " 'annos': {'2815': 'b8704',\n",
       "  '2816': 'b8708',\n",
       "  '2817': 'b8712',\n",
       "  '2818': 'b8716',\n",
       "  '2819': 'b8720',\n",
       "  '2820': 'b8724',\n",
       "  '2821': 'b8728',\n",
       "  '2822': 'b8732',\n",
       "  '2823': 'b8736',\n",
       "  '2824': 'b8740',\n",
       "  '2825': 'b8744',\n",
       "  '2826': 'b8748',\n",
       "  '2827': 'b8752',\n",
       "  '2828': 'b8756',\n",
       "  '2829': 'b8760',\n",
       "  '2830': 'b8764',\n",
       "  '2831': 'b8769',\n",
       "  '2832': 'b8774',\n",
       "  '2833': 'b8779',\n",
       "  '2834': 'b8784',\n",
       "  '2835': 'b8789',\n",
       "  '2836': 'b8794',\n",
       "  '2837': 'b8799',\n",
       "  '2838': 'b8804',\n",
       "  '2839': 'b8809',\n",
       "  '2840': 'b8814',\n",
       "  '2841': 'b8819',\n",
       "  '2842': 'b8824',\n",
       "  '2843': 'b8828',\n",
       "  '2844': 'b8832',\n",
       "  '2845': 'b8836',\n",
       "  '2846': 'b8840',\n",
       "  '2847': 'b8844',\n",
       "  '2848': 'b8848',\n",
       "  '2849': 'b8852',\n",
       "  '2850': 'b8856',\n",
       "  '2851': 'b8860',\n",
       "  '2852': 'b8864',\n",
       "  '2853': 'b8868',\n",
       "  '2854': 'b8872',\n",
       "  '2855': 'b8876',\n",
       "  '2856': 'b8880',\n",
       "  '2857': 'b8884',\n",
       "  '2858': 'b8888',\n",
       "  '2859': 'b8892',\n",
       "  '2860': 'b8896',\n",
       "  '2861': 'b8900',\n",
       "  '2862': 'b8904',\n",
       "  '2863': 'b8908',\n",
       "  '2864': 'b8912',\n",
       "  '2865': 'b8916',\n",
       "  '2866': 'b8920',\n",
       "  '2867': 'b8925',\n",
       "  '2868': 'b8930',\n",
       "  '2869': 'b8935',\n",
       "  '2870': 'b8940',\n",
       "  '2871': 'b8945',\n",
       "  '2872': 'b8950',\n",
       "  '2873': 'b8955',\n",
       "  '2874': 'b8959',\n",
       "  '2875': 'b8963',\n",
       "  '2876': 'b8967',\n",
       "  '2877': 'b8971',\n",
       "  '2878': 'b8975',\n",
       "  '2879': 'b8979',\n",
       "  '2880': 'b8982',\n",
       "  '2881': 'b8985'}}"
      ]
     },
     "execution_count": 64,
     "metadata": {},
     "output_type": "execute_result"
    }
   ],
   "source": [
    "ann_dict['db']['2014-06-25-16-45-34_stereo_centre_02']['action_tubes']['dc4f39d3-004-01']"
   ]
  },
  {
   "cell_type": "code",
   "execution_count": 18,
   "metadata": {},
   "outputs": [],
   "source": [
    "ann_dict2 = json.loads(open(\"/mnt/wato-drive/road/annotations/tracking_all.json\", \"r\").read())"
   ]
  },
  {
   "cell_type": "code",
   "execution_count": 26,
   "metadata": {},
   "outputs": [],
   "source": [
    "with open(\"/mnt/wato-drive/road/detections/val1_coco.jsonl\", \"r\") as f:\n",
    "    ann3 = [json.loads(line) for line in f]\n"
   ]
  },
  {
   "cell_type": "code",
   "execution_count": 7,
   "metadata": {},
   "outputs": [
    {
     "data": {
      "text/plain": [
       "4734"
      ]
     },
     "execution_count": 7,
     "metadata": {},
     "output_type": "execute_result"
    }
   ],
   "source": [
    "len(ann_dict['db']['2014-06-25-16-45-34_stereo_centre_02']['frames'])"
   ]
  },
  {
   "cell_type": "code",
   "execution_count": 22,
   "metadata": {},
   "outputs": [
    {
     "data": {
      "text/plain": [
       "dict_keys(['2014-06-25-16-45-34_stereo_centre_02', '2014-06-26-09-53-12_stereo_centre_02', '2014-07-14-14-49-50_stereo_centre_01', '2014-07-14-15-42-55_stereo_centre_03', '2014-08-08-13-15-11_stereo_centre_01', '2014-08-11-10-59-18_stereo_centre_02', '2014-11-14-16-34-33_stereo_centre_06', '2014-11-18-13-20-12_stereo_centre_05', '2014-11-21-16-07-03_stereo_centre_01', '2014-11-25-09-18-32_stereo_centre_04', '2014-12-09-13-21-02_stereo_centre_01', '2015-02-03-08-45-10_stereo_centre_02', '2015-02-03-19-43-11_stereo_centre_04', '2015-02-06-13-57-16_stereo_centre_02', '2015-02-13-09-16-26_stereo_centre_02', '2015-02-13-09-16-26_stereo_centre_05', '2015-02-24-12-32-19_stereo_centre_04', '2015-03-03-11-31-36_stereo_centre_01'])"
      ]
     },
     "execution_count": 22,
     "metadata": {},
     "output_type": "execute_result"
    }
   ],
   "source": [
    "for each in ann_dict['db']:\n",
    "    if 'train_1' in each['split_ids']:\n",
    "        "
   ]
  },
  {
   "cell_type": "code",
   "execution_count": 33,
   "metadata": {},
   "outputs": [],
   "source": [
    "valvideos = set([])\n",
    "for each in ann3:\n",
    "    valvideos.add(ann3[1]['frameName'].split('.')[0])"
   ]
  },
  {
   "cell_type": "code",
   "execution_count": 34,
   "metadata": {},
   "outputs": [
    {
     "data": {
      "text/plain": [
       "{'2014-06-26-09-53-12_stereo_centre_02'}"
      ]
     },
     "execution_count": 34,
     "metadata": {},
     "output_type": "execute_result"
    }
   ],
   "source": [
    "valvideos"
   ]
  },
  {
   "cell_type": "code",
   "execution_count": 8,
   "metadata": {},
   "outputs": [],
   "source": [
    "videos = set([])\n",
    "for each in data:\n",
    "    videos.add(each['video'])"
   ]
  },
  {
   "cell_type": "code",
   "execution_count": 28,
   "metadata": {},
   "outputs": [
    {
     "data": {
      "text/plain": [
       "{'2014-06-25-16-45-34_stereo_centre_02',\n",
       " '2014-07-14-14-49-50_stereo_centre_01',\n",
       " '2014-07-14-15-42-55_stereo_centre_03',\n",
       " '2014-08-08-13-15-11_stereo_centre_01',\n",
       " '2014-08-11-10-59-18_stereo_centre_02',\n",
       " '2014-11-14-16-34-33_stereo_centre_06',\n",
       " '2014-11-18-13-20-12_stereo_centre_05',\n",
       " '2014-11-21-16-07-03_stereo_centre_01',\n",
       " '2014-12-09-13-21-02_stereo_centre_01',\n",
       " '2015-02-03-08-45-10_stereo_centre_02',\n",
       " '2015-02-03-19-43-11_stereo_centre_04',\n",
       " '2015-02-06-13-57-16_stereo_centre_02',\n",
       " '2015-02-13-09-16-26_stereo_centre_05',\n",
       " '2015-02-24-12-32-19_stereo_centre_04',\n",
       " '2015-03-03-11-31-36_stereo_centre_01'}"
      ]
     },
     "execution_count": 28,
     "metadata": {},
     "output_type": "execute_result"
    }
   ],
   "source": [
    "videos"
   ]
  },
  {
   "cell_type": "code",
   "execution_count": 2,
   "metadata": {},
   "outputs": [
    {
     "ename": "FileNotFoundError",
     "evalue": "[Errno 2] No such file or directory: './road/cache/resnet50I3D512-Pkinetics-b4s8x1x1-roadt3-h3x3x3/detections-30-08-50/2014-06-25-16-45-34_stereo_centre_02/04131.pkl'",
     "output_type": "error",
     "traceback": [
      "\u001b[0;31m---------------------------------------------------------------------------\u001b[0m",
      "\u001b[0;31mFileNotFoundError\u001b[0m                         Traceback (most recent call last)",
      "\u001b[1;32m/home/a5zhuang/action-classification/analysis.ipynb Cell 11'\u001b[0m in \u001b[0;36m<cell line: 2>\u001b[0;34m()\u001b[0m\n\u001b[1;32m      <a href='vscode-notebook-cell://ssh-remote%2Bthor-ubuntu1.watocluster.local/home/a5zhuang/action-classification/analysis.ipynb#ch0000010vscode-remote?line=0'>1</a>\u001b[0m \u001b[39mimport\u001b[39;00m \u001b[39mpickle\u001b[39;00m\n\u001b[0;32m----> <a href='vscode-notebook-cell://ssh-remote%2Bthor-ubuntu1.watocluster.local/home/a5zhuang/action-classification/analysis.ipynb#ch0000010vscode-remote?line=1'>2</a>\u001b[0m a \u001b[39m=\u001b[39m pickle\u001b[39m.\u001b[39mload(\u001b[39mopen\u001b[39;49m(\u001b[39m\"\u001b[39;49m\u001b[39m./road/cache/resnet50I3D512-Pkinetics-b4s8x1x1-roadt3-h3x3x3/detections-30-08-50/2014-06-25-16-45-34_stereo_centre_02/04131.pkl\u001b[39;49m\u001b[39m\"\u001b[39;49m,\u001b[39m'\u001b[39;49m\u001b[39mrb\u001b[39;49m\u001b[39m'\u001b[39;49m))\n",
      "\u001b[0;31mFileNotFoundError\u001b[0m: [Errno 2] No such file or directory: './road/cache/resnet50I3D512-Pkinetics-b4s8x1x1-roadt3-h3x3x3/detections-30-08-50/2014-06-25-16-45-34_stereo_centre_02/04131.pkl'"
     ]
    }
   ],
   "source": []
  },
  {
   "cell_type": "code",
   "execution_count": null,
   "metadata": {},
   "outputs": [],
   "source": []
  }
 ],
 "metadata": {
  "interpreter": {
   "hash": "23393d2575091a37cff0d0e9e7479591a295495b26c3b2ebf9b64da572e02d85"
  },
  "kernelspec": {
   "display_name": "Python 3.8.0 64-bit",
   "language": "python",
   "name": "python3"
  },
  "language_info": {
   "codemirror_mode": {
    "name": "ipython",
    "version": 3
   },
   "file_extension": ".py",
   "mimetype": "text/x-python",
   "name": "python",
   "nbconvert_exporter": "python",
   "pygments_lexer": "ipython3",
   "version": "3.8.0"
  },
  "orig_nbformat": 4
 },
 "nbformat": 4,
 "nbformat_minor": 2
}
